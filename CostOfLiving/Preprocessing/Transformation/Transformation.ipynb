{
 "cells": [
  {
   "cell_type": "code",
   "execution_count": 2,
   "metadata": {},
   "outputs": [],
   "source": [
    "#import libraries\n",
    "import pandas as pd\n",
    "import numpy as np"
   ]
  },
  {
   "cell_type": "code",
   "execution_count": 3,
   "metadata": {},
   "outputs": [],
   "source": [
    "#read in data\n",
    "df = pd.read_csv('datasets/allYearsAllMonths.csv')\n",
    "\n",
    "#convert month column to to string\n",
    "df['Month'] = df['Month'].astype(str)"
   ]
  },
  {
   "cell_type": "code",
   "execution_count": 5,
   "metadata": {},
   "outputs": [],
   "source": [
    "#create a new dataframe for each year month string with 2012\n",
    "df_2012 = df[df['Month'].str.startswith('2012')]\n",
    "df_2013 = df[df['Month'].str.startswith('2013')]\n",
    "df_2014 = df[df['Month'].str.startswith('2014')]\n",
    "df_2015 = df[df['Month'].str.startswith('2015')]\n",
    "df_2016 = df[df['Month'].str.startswith('2016')]\n",
    "df_2017 = df[df['Month'].str.startswith('2017')]\n",
    "df_2018 = df[df['Month'].str.startswith('2018')]\n",
    "df_2019 = df[df['Month'].str.startswith('2019')]\n",
    "df_2020 = df[df['Month'].str.startswith('2020')]\n",
    "df_2021 = df[df['Month'].str.startswith('2021')]\n",
    "df_2022 = df[df['Month'].str.startswith('2022')]\n",
    "\n",
    "\n",
    "#output each dataframe to a csv file\n",
    "df_2012.to_csv('datasets/byYears/2012.csv', index=False)\n",
    "df_2013.to_csv('datasets/byYears/2013.csv', index=False)\n",
    "df_2014.to_csv('datasets/byYears/2014.csv', index=False)\n",
    "df_2015.to_csv('datasets/byYears/2015.csv', index=False)\n",
    "df_2016.to_csv('datasets/byYears/2016.csv', index=False)\n",
    "df_2017.to_csv('datasets/byYears/2017.csv', index=False)\n",
    "df_2018.to_csv('datasets/byYears/2018.csv', index=False)\n",
    "df_2019.to_csv('datasets/byYears/2019.csv', index=False)\n",
    "df_2020.to_csv('datasets/byYears/2020.csv', index=False)\n",
    "df_2021.to_csv('datasets/byYears/2021.csv', index=False)\n",
    "df_2022.to_csv('datasets/byYears/2022.csv', index=False)\n"
   ]
  },
  {
   "cell_type": "code",
   "execution_count": null,
   "metadata": {},
   "outputs": [],
   "source": []
  }
 ],
 "metadata": {
  "kernelspec": {
   "display_name": "Python 3",
   "language": "python",
   "name": "python3"
  },
  "language_info": {
   "codemirror_mode": {
    "name": "ipython",
    "version": 3
   },
   "file_extension": ".py",
   "mimetype": "text/x-python",
   "name": "python",
   "nbconvert_exporter": "python",
   "pygments_lexer": "ipython3",
   "version": "3.10.7"
  },
  "orig_nbformat": 4,
  "vscode": {
   "interpreter": {
    "hash": "aee8b7b246df8f9039afb4144a1f6fd8d2ca17a180786b69acc140d282b71a49"
   }
  }
 },
 "nbformat": 4,
 "nbformat_minor": 2
}
