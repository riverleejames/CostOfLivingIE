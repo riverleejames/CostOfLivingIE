{
 "cells": [
  {
   "cell_type": "code",
   "execution_count": 54,
   "metadata": {},
   "outputs": [],
   "source": [
    "#import libraries\n",
    "import pandas as pd"
   ]
  },
  {
   "cell_type": "code",
   "execution_count": 55,
   "metadata": {},
   "outputs": [],
   "source": [
    "#import data\n",
    "df_2001 = pd.read_csv('datasets/modified/nap-2001.csv')\n",
    "df_2011 = pd.read_csv('datasets/modified/nap-2011.csv')"
   ]
  },
  {
   "cell_type": "code",
   "execution_count": 56,
   "metadata": {},
   "outputs": [
    {
     "data": {
      "text/html": [
       "<div>\n",
       "<style scoped>\n",
       "    .dataframe tbody tr th:only-of-type {\n",
       "        vertical-align: middle;\n",
       "    }\n",
       "\n",
       "    .dataframe tbody tr th {\n",
       "        vertical-align: top;\n",
       "    }\n",
       "\n",
       "    .dataframe thead th {\n",
       "        text-align: right;\n",
       "    }\n",
       "</style>\n",
       "<table border=\"1\" class=\"dataframe\">\n",
       "  <thead>\n",
       "    <tr style=\"text-align: right;\">\n",
       "      <th></th>\n",
       "      <th>STATISTIC</th>\n",
       "      <th>Statistic Label</th>\n",
       "      <th>C02363V02844</th>\n",
       "      <th>Consumer Item</th>\n",
       "      <th>TLIST(M1)</th>\n",
       "      <th>Month</th>\n",
       "      <th>UNIT</th>\n",
       "      <th>VALUE</th>\n",
       "    </tr>\n",
       "  </thead>\n",
       "  <tbody>\n",
       "    <tr>\n",
       "      <th>0</th>\n",
       "      <td>CPM04</td>\n",
       "      <td>National Average  Price</td>\n",
       "      <td>10010</td>\n",
       "      <td>Round steak per kg.</td>\n",
       "      <td>200112</td>\n",
       "      <td>2001M12</td>\n",
       "      <td>Euro</td>\n",
       "      <td>8.414</td>\n",
       "    </tr>\n",
       "    <tr>\n",
       "      <th>1</th>\n",
       "      <td>CPM04</td>\n",
       "      <td>National Average  Price</td>\n",
       "      <td>10010</td>\n",
       "      <td>Round steak per kg.</td>\n",
       "      <td>200201</td>\n",
       "      <td>2002M01</td>\n",
       "      <td>Euro</td>\n",
       "      <td>8.696</td>\n",
       "    </tr>\n",
       "    <tr>\n",
       "      <th>2</th>\n",
       "      <td>CPM04</td>\n",
       "      <td>National Average  Price</td>\n",
       "      <td>10010</td>\n",
       "      <td>Round steak per kg.</td>\n",
       "      <td>200202</td>\n",
       "      <td>2002M02</td>\n",
       "      <td>Euro</td>\n",
       "      <td>8.643</td>\n",
       "    </tr>\n",
       "    <tr>\n",
       "      <th>3</th>\n",
       "      <td>CPM04</td>\n",
       "      <td>National Average  Price</td>\n",
       "      <td>10010</td>\n",
       "      <td>Round steak per kg.</td>\n",
       "      <td>200203</td>\n",
       "      <td>2002M03</td>\n",
       "      <td>Euro</td>\n",
       "      <td>8.791</td>\n",
       "    </tr>\n",
       "    <tr>\n",
       "      <th>4</th>\n",
       "      <td>CPM04</td>\n",
       "      <td>National Average  Price</td>\n",
       "      <td>10010</td>\n",
       "      <td>Round steak per kg.</td>\n",
       "      <td>200204</td>\n",
       "      <td>2002M04</td>\n",
       "      <td>Euro</td>\n",
       "      <td>8.599</td>\n",
       "    </tr>\n",
       "  </tbody>\n",
       "</table>\n",
       "</div>"
      ],
      "text/plain": [
       "  STATISTIC          Statistic Label  C02363V02844        Consumer Item  \\\n",
       "0     CPM04  National Average  Price         10010  Round steak per kg.   \n",
       "1     CPM04  National Average  Price         10010  Round steak per kg.   \n",
       "2     CPM04  National Average  Price         10010  Round steak per kg.   \n",
       "3     CPM04  National Average  Price         10010  Round steak per kg.   \n",
       "4     CPM04  National Average  Price         10010  Round steak per kg.   \n",
       "\n",
       "   TLIST(M1)    Month  UNIT  VALUE  \n",
       "0     200112  2001M12  Euro  8.414  \n",
       "1     200201  2002M01  Euro  8.696  \n",
       "2     200202  2002M02  Euro  8.643  \n",
       "3     200203  2002M03  Euro  8.791  \n",
       "4     200204  2002M04  Euro  8.599  "
      ]
     },
     "execution_count": 56,
     "metadata": {},
     "output_type": "execute_result"
    }
   ],
   "source": [
    "df_2001.head()"
   ]
  },
  {
   "cell_type": "code",
   "execution_count": 57,
   "metadata": {},
   "outputs": [
    {
     "data": {
      "text/html": [
       "<div>\n",
       "<style scoped>\n",
       "    .dataframe tbody tr th:only-of-type {\n",
       "        vertical-align: middle;\n",
       "    }\n",
       "\n",
       "    .dataframe tbody tr th {\n",
       "        vertical-align: top;\n",
       "    }\n",
       "\n",
       "    .dataframe thead th {\n",
       "        text-align: right;\n",
       "    }\n",
       "</style>\n",
       "<table border=\"1\" class=\"dataframe\">\n",
       "  <thead>\n",
       "    <tr style=\"text-align: right;\">\n",
       "      <th></th>\n",
       "      <th>STATISTIC</th>\n",
       "      <th>STATISTIC Label</th>\n",
       "      <th>TLIST(M1)</th>\n",
       "      <th>Month</th>\n",
       "      <th>C02363V03422</th>\n",
       "      <th>Consumer Item</th>\n",
       "      <th>UNIT</th>\n",
       "      <th>VALUE</th>\n",
       "    </tr>\n",
       "  </thead>\n",
       "  <tbody>\n",
       "    <tr>\n",
       "      <th>0</th>\n",
       "      <td>CPM12</td>\n",
       "      <td>National Average Price</td>\n",
       "      <td>201201</td>\n",
       "      <td>2012 January</td>\n",
       "      <td>10020</td>\n",
       "      <td>White, self raising flour per 2 kg</td>\n",
       "      <td>Euro</td>\n",
       "      <td>2.130</td>\n",
       "    </tr>\n",
       "    <tr>\n",
       "      <th>1</th>\n",
       "      <td>CPM12</td>\n",
       "      <td>National Average Price</td>\n",
       "      <td>201201</td>\n",
       "      <td>2012 January</td>\n",
       "      <td>10030</td>\n",
       "      <td>Brown, wholemeal flour per 2 kg</td>\n",
       "      <td>Euro</td>\n",
       "      <td>2.495</td>\n",
       "    </tr>\n",
       "    <tr>\n",
       "      <th>2</th>\n",
       "      <td>CPM12</td>\n",
       "      <td>National Average Price</td>\n",
       "      <td>201201</td>\n",
       "      <td>2012 January</td>\n",
       "      <td>10040</td>\n",
       "      <td>Bread, white sliced pan, large (800g)</td>\n",
       "      <td>Euro</td>\n",
       "      <td>1.276</td>\n",
       "    </tr>\n",
       "    <tr>\n",
       "      <th>3</th>\n",
       "      <td>CPM12</td>\n",
       "      <td>National Average Price</td>\n",
       "      <td>201201</td>\n",
       "      <td>2012 January</td>\n",
       "      <td>10050</td>\n",
       "      <td>Bread, brown sliced pan, large (800g)</td>\n",
       "      <td>Euro</td>\n",
       "      <td>1.539</td>\n",
       "    </tr>\n",
       "    <tr>\n",
       "      <th>4</th>\n",
       "      <td>CPM12</td>\n",
       "      <td>National Average Price</td>\n",
       "      <td>201201</td>\n",
       "      <td>2012 January</td>\n",
       "      <td>10190</td>\n",
       "      <td>Spaghetti per 500g</td>\n",
       "      <td>Euro</td>\n",
       "      <td>1.202</td>\n",
       "    </tr>\n",
       "  </tbody>\n",
       "</table>\n",
       "</div>"
      ],
      "text/plain": [
       "  STATISTIC         STATISTIC Label  TLIST(M1)         Month  C02363V03422  \\\n",
       "0     CPM12  National Average Price     201201  2012 January         10020   \n",
       "1     CPM12  National Average Price     201201  2012 January         10030   \n",
       "2     CPM12  National Average Price     201201  2012 January         10040   \n",
       "3     CPM12  National Average Price     201201  2012 January         10050   \n",
       "4     CPM12  National Average Price     201201  2012 January         10190   \n",
       "\n",
       "                           Consumer Item  UNIT  VALUE  \n",
       "0     White, self raising flour per 2 kg  Euro  2.130  \n",
       "1        Brown, wholemeal flour per 2 kg  Euro  2.495  \n",
       "2  Bread, white sliced pan, large (800g)  Euro  1.276  \n",
       "3  Bread, brown sliced pan, large (800g)  Euro  1.539  \n",
       "4                     Spaghetti per 500g  Euro  1.202  "
      ]
     },
     "execution_count": 57,
     "metadata": {},
     "output_type": "execute_result"
    }
   ],
   "source": [
    "df_2011.head()"
   ]
  },
  {
   "cell_type": "code",
   "execution_count": 58,
   "metadata": {},
   "outputs": [],
   "source": [
    "#remove unnecessary columns\n",
    "df_2001.drop(['STATISTIC', 'Statistic Label','C02363V02844', 'Month', 'UNIT'], axis=1, inplace=True)\n"
   ]
  },
  {
   "cell_type": "code",
   "execution_count": 59,
   "metadata": {},
   "outputs": [],
   "source": [
    "df_2011.drop(['STATISTIC', 'STATISTIC Label','Month', 'C02363V03422', 'UNIT'], axis=1, inplace=True)"
   ]
  },
  {
   "cell_type": "code",
   "execution_count": 60,
   "metadata": {},
   "outputs": [
    {
     "data": {
      "text/html": [
       "<div>\n",
       "<style scoped>\n",
       "    .dataframe tbody tr th:only-of-type {\n",
       "        vertical-align: middle;\n",
       "    }\n",
       "\n",
       "    .dataframe tbody tr th {\n",
       "        vertical-align: top;\n",
       "    }\n",
       "\n",
       "    .dataframe thead th {\n",
       "        text-align: right;\n",
       "    }\n",
       "</style>\n",
       "<table border=\"1\" class=\"dataframe\">\n",
       "  <thead>\n",
       "    <tr style=\"text-align: right;\">\n",
       "      <th></th>\n",
       "      <th>Consumer Item</th>\n",
       "      <th>TLIST(M1)</th>\n",
       "      <th>VALUE</th>\n",
       "    </tr>\n",
       "  </thead>\n",
       "  <tbody>\n",
       "    <tr>\n",
       "      <th>0</th>\n",
       "      <td>Round steak per kg.</td>\n",
       "      <td>200112</td>\n",
       "      <td>8.414</td>\n",
       "    </tr>\n",
       "    <tr>\n",
       "      <th>1</th>\n",
       "      <td>Round steak per kg.</td>\n",
       "      <td>200201</td>\n",
       "      <td>8.696</td>\n",
       "    </tr>\n",
       "    <tr>\n",
       "      <th>2</th>\n",
       "      <td>Round steak per kg.</td>\n",
       "      <td>200202</td>\n",
       "      <td>8.643</td>\n",
       "    </tr>\n",
       "    <tr>\n",
       "      <th>3</th>\n",
       "      <td>Round steak per kg.</td>\n",
       "      <td>200203</td>\n",
       "      <td>8.791</td>\n",
       "    </tr>\n",
       "    <tr>\n",
       "      <th>4</th>\n",
       "      <td>Round steak per kg.</td>\n",
       "      <td>200204</td>\n",
       "      <td>8.599</td>\n",
       "    </tr>\n",
       "  </tbody>\n",
       "</table>\n",
       "</div>"
      ],
      "text/plain": [
       "         Consumer Item  TLIST(M1)  VALUE\n",
       "0  Round steak per kg.     200112  8.414\n",
       "1  Round steak per kg.     200201  8.696\n",
       "2  Round steak per kg.     200202  8.643\n",
       "3  Round steak per kg.     200203  8.791\n",
       "4  Round steak per kg.     200204  8.599"
      ]
     },
     "execution_count": 60,
     "metadata": {},
     "output_type": "execute_result"
    }
   ],
   "source": [
    "df_2001.head()"
   ]
  },
  {
   "cell_type": "code",
   "execution_count": 61,
   "metadata": {},
   "outputs": [
    {
     "data": {
      "text/html": [
       "<div>\n",
       "<style scoped>\n",
       "    .dataframe tbody tr th:only-of-type {\n",
       "        vertical-align: middle;\n",
       "    }\n",
       "\n",
       "    .dataframe tbody tr th {\n",
       "        vertical-align: top;\n",
       "    }\n",
       "\n",
       "    .dataframe thead th {\n",
       "        text-align: right;\n",
       "    }\n",
       "</style>\n",
       "<table border=\"1\" class=\"dataframe\">\n",
       "  <thead>\n",
       "    <tr style=\"text-align: right;\">\n",
       "      <th></th>\n",
       "      <th>TLIST(M1)</th>\n",
       "      <th>Consumer Item</th>\n",
       "      <th>VALUE</th>\n",
       "    </tr>\n",
       "  </thead>\n",
       "  <tbody>\n",
       "    <tr>\n",
       "      <th>0</th>\n",
       "      <td>201201</td>\n",
       "      <td>White, self raising flour per 2 kg</td>\n",
       "      <td>2.130</td>\n",
       "    </tr>\n",
       "    <tr>\n",
       "      <th>1</th>\n",
       "      <td>201201</td>\n",
       "      <td>Brown, wholemeal flour per 2 kg</td>\n",
       "      <td>2.495</td>\n",
       "    </tr>\n",
       "    <tr>\n",
       "      <th>2</th>\n",
       "      <td>201201</td>\n",
       "      <td>Bread, white sliced pan, large (800g)</td>\n",
       "      <td>1.276</td>\n",
       "    </tr>\n",
       "    <tr>\n",
       "      <th>3</th>\n",
       "      <td>201201</td>\n",
       "      <td>Bread, brown sliced pan, large (800g)</td>\n",
       "      <td>1.539</td>\n",
       "    </tr>\n",
       "    <tr>\n",
       "      <th>4</th>\n",
       "      <td>201201</td>\n",
       "      <td>Spaghetti per 500g</td>\n",
       "      <td>1.202</td>\n",
       "    </tr>\n",
       "  </tbody>\n",
       "</table>\n",
       "</div>"
      ],
      "text/plain": [
       "   TLIST(M1)                          Consumer Item  VALUE\n",
       "0     201201     White, self raising flour per 2 kg  2.130\n",
       "1     201201        Brown, wholemeal flour per 2 kg  2.495\n",
       "2     201201  Bread, white sliced pan, large (800g)  1.276\n",
       "3     201201  Bread, brown sliced pan, large (800g)  1.539\n",
       "4     201201                     Spaghetti per 500g  1.202"
      ]
     },
     "execution_count": 61,
     "metadata": {},
     "output_type": "execute_result"
    }
   ],
   "source": [
    "df_2011.head()"
   ]
  },
  {
   "cell_type": "code",
   "execution_count": 62,
   "metadata": {},
   "outputs": [],
   "source": [
    "#rearrange columns to match each other \n",
    "df_2001 = df_2001.reindex(columns=['TLIST(M1)','Consumer Item', 'VALUE'])\n"
   ]
  },
  {
   "cell_type": "code",
   "execution_count": 63,
   "metadata": {},
   "outputs": [
    {
     "data": {
      "text/html": [
       "<div>\n",
       "<style scoped>\n",
       "    .dataframe tbody tr th:only-of-type {\n",
       "        vertical-align: middle;\n",
       "    }\n",
       "\n",
       "    .dataframe tbody tr th {\n",
       "        vertical-align: top;\n",
       "    }\n",
       "\n",
       "    .dataframe thead th {\n",
       "        text-align: right;\n",
       "    }\n",
       "</style>\n",
       "<table border=\"1\" class=\"dataframe\">\n",
       "  <thead>\n",
       "    <tr style=\"text-align: right;\">\n",
       "      <th></th>\n",
       "      <th>TLIST(M1)</th>\n",
       "      <th>Consumer Item</th>\n",
       "      <th>VALUE</th>\n",
       "    </tr>\n",
       "  </thead>\n",
       "  <tbody>\n",
       "    <tr>\n",
       "      <th>0</th>\n",
       "      <td>200112</td>\n",
       "      <td>Round steak per kg.</td>\n",
       "      <td>8.414</td>\n",
       "    </tr>\n",
       "    <tr>\n",
       "      <th>1</th>\n",
       "      <td>200201</td>\n",
       "      <td>Round steak per kg.</td>\n",
       "      <td>8.696</td>\n",
       "    </tr>\n",
       "    <tr>\n",
       "      <th>2</th>\n",
       "      <td>200202</td>\n",
       "      <td>Round steak per kg.</td>\n",
       "      <td>8.643</td>\n",
       "    </tr>\n",
       "    <tr>\n",
       "      <th>3</th>\n",
       "      <td>200203</td>\n",
       "      <td>Round steak per kg.</td>\n",
       "      <td>8.791</td>\n",
       "    </tr>\n",
       "    <tr>\n",
       "      <th>4</th>\n",
       "      <td>200204</td>\n",
       "      <td>Round steak per kg.</td>\n",
       "      <td>8.599</td>\n",
       "    </tr>\n",
       "  </tbody>\n",
       "</table>\n",
       "</div>"
      ],
      "text/plain": [
       "   TLIST(M1)        Consumer Item  VALUE\n",
       "0     200112  Round steak per kg.  8.414\n",
       "1     200201  Round steak per kg.  8.696\n",
       "2     200202  Round steak per kg.  8.643\n",
       "3     200203  Round steak per kg.  8.791\n",
       "4     200204  Round steak per kg.  8.599"
      ]
     },
     "execution_count": 63,
     "metadata": {},
     "output_type": "execute_result"
    }
   ],
   "source": [
    "df_2001.head()"
   ]
  },
  {
   "cell_type": "code",
   "execution_count": 64,
   "metadata": {},
   "outputs": [],
   "source": [
    "#rename columns\n",
    "df_2001.rename(columns={'TLIST(M1)':'Month', 'Consumer Item':'Item', 'VALUE':'Value'}, inplace=True)\n"
   ]
  },
  {
   "cell_type": "code",
   "execution_count": 65,
   "metadata": {},
   "outputs": [
    {
     "data": {
      "text/html": [
       "<div>\n",
       "<style scoped>\n",
       "    .dataframe tbody tr th:only-of-type {\n",
       "        vertical-align: middle;\n",
       "    }\n",
       "\n",
       "    .dataframe tbody tr th {\n",
       "        vertical-align: top;\n",
       "    }\n",
       "\n",
       "    .dataframe thead th {\n",
       "        text-align: right;\n",
       "    }\n",
       "</style>\n",
       "<table border=\"1\" class=\"dataframe\">\n",
       "  <thead>\n",
       "    <tr style=\"text-align: right;\">\n",
       "      <th></th>\n",
       "      <th>Month</th>\n",
       "      <th>Item</th>\n",
       "      <th>Value</th>\n",
       "    </tr>\n",
       "  </thead>\n",
       "  <tbody>\n",
       "    <tr>\n",
       "      <th>0</th>\n",
       "      <td>200112</td>\n",
       "      <td>Round steak per kg.</td>\n",
       "      <td>8.414</td>\n",
       "    </tr>\n",
       "    <tr>\n",
       "      <th>1</th>\n",
       "      <td>200201</td>\n",
       "      <td>Round steak per kg.</td>\n",
       "      <td>8.696</td>\n",
       "    </tr>\n",
       "    <tr>\n",
       "      <th>2</th>\n",
       "      <td>200202</td>\n",
       "      <td>Round steak per kg.</td>\n",
       "      <td>8.643</td>\n",
       "    </tr>\n",
       "    <tr>\n",
       "      <th>3</th>\n",
       "      <td>200203</td>\n",
       "      <td>Round steak per kg.</td>\n",
       "      <td>8.791</td>\n",
       "    </tr>\n",
       "    <tr>\n",
       "      <th>4</th>\n",
       "      <td>200204</td>\n",
       "      <td>Round steak per kg.</td>\n",
       "      <td>8.599</td>\n",
       "    </tr>\n",
       "  </tbody>\n",
       "</table>\n",
       "</div>"
      ],
      "text/plain": [
       "    Month                 Item  Value\n",
       "0  200112  Round steak per kg.  8.414\n",
       "1  200201  Round steak per kg.  8.696\n",
       "2  200202  Round steak per kg.  8.643\n",
       "3  200203  Round steak per kg.  8.791\n",
       "4  200204  Round steak per kg.  8.599"
      ]
     },
     "execution_count": 65,
     "metadata": {},
     "output_type": "execute_result"
    }
   ],
   "source": [
    "df_2001.head()"
   ]
  },
  {
   "cell_type": "code",
   "execution_count": 66,
   "metadata": {},
   "outputs": [],
   "source": [
    "#rename columns\n",
    "df_2011.rename(columns={'TLIST(M1)':'Month', 'Consumer Item':'Item', 'VALUE':'Value'}, inplace=True)"
   ]
  },
  {
   "cell_type": "code",
   "execution_count": 67,
   "metadata": {},
   "outputs": [
    {
     "data": {
      "text/html": [
       "<div>\n",
       "<style scoped>\n",
       "    .dataframe tbody tr th:only-of-type {\n",
       "        vertical-align: middle;\n",
       "    }\n",
       "\n",
       "    .dataframe tbody tr th {\n",
       "        vertical-align: top;\n",
       "    }\n",
       "\n",
       "    .dataframe thead th {\n",
       "        text-align: right;\n",
       "    }\n",
       "</style>\n",
       "<table border=\"1\" class=\"dataframe\">\n",
       "  <thead>\n",
       "    <tr style=\"text-align: right;\">\n",
       "      <th></th>\n",
       "      <th>Month</th>\n",
       "      <th>Item</th>\n",
       "      <th>Value</th>\n",
       "    </tr>\n",
       "  </thead>\n",
       "  <tbody>\n",
       "    <tr>\n",
       "      <th>0</th>\n",
       "      <td>201201</td>\n",
       "      <td>White, self raising flour per 2 kg</td>\n",
       "      <td>2.130</td>\n",
       "    </tr>\n",
       "    <tr>\n",
       "      <th>1</th>\n",
       "      <td>201201</td>\n",
       "      <td>Brown, wholemeal flour per 2 kg</td>\n",
       "      <td>2.495</td>\n",
       "    </tr>\n",
       "    <tr>\n",
       "      <th>2</th>\n",
       "      <td>201201</td>\n",
       "      <td>Bread, white sliced pan, large (800g)</td>\n",
       "      <td>1.276</td>\n",
       "    </tr>\n",
       "    <tr>\n",
       "      <th>3</th>\n",
       "      <td>201201</td>\n",
       "      <td>Bread, brown sliced pan, large (800g)</td>\n",
       "      <td>1.539</td>\n",
       "    </tr>\n",
       "    <tr>\n",
       "      <th>4</th>\n",
       "      <td>201201</td>\n",
       "      <td>Spaghetti per 500g</td>\n",
       "      <td>1.202</td>\n",
       "    </tr>\n",
       "  </tbody>\n",
       "</table>\n",
       "</div>"
      ],
      "text/plain": [
       "    Month                                   Item  Value\n",
       "0  201201     White, self raising flour per 2 kg  2.130\n",
       "1  201201        Brown, wholemeal flour per 2 kg  2.495\n",
       "2  201201  Bread, white sliced pan, large (800g)  1.276\n",
       "3  201201  Bread, brown sliced pan, large (800g)  1.539\n",
       "4  201201                     Spaghetti per 500g  1.202"
      ]
     },
     "execution_count": 67,
     "metadata": {},
     "output_type": "execute_result"
    }
   ],
   "source": [
    "df_2011.head()"
   ]
  },
  {
   "cell_type": "code",
   "execution_count": 68,
   "metadata": {},
   "outputs": [],
   "source": [
    "#output to csv\n",
    "df_2001.to_csv('datasets/modified/nap-2001-drop-reindex-rename.csv', index=False)\n",
    "df_2011.to_csv('datasets/modified/nap-2011-drop-reindex-rename.csv', index=False)"
   ]
  },
  {
   "cell_type": "code",
   "execution_count": 69,
   "metadata": {},
   "outputs": [
    {
     "name": "stderr",
     "output_type": "stream",
     "text": [
      "/var/folders/w6/r48h7v_j71v17zq997zw3_yr0000gn/T/ipykernel_52463/3719923600.py:6: FutureWarning: The frame.append method is deprecated and will be removed from pandas in a future version. Use pandas.concat instead.\n",
      "  df_appended = df_messy.append(df_clean, ignore_index=True)\n"
     ]
    }
   ],
   "source": [
    "#load dataframes again\n",
    "df_clean = pd.read_csv('datasets/modified/nap-2011-drop-reindex-rename.csv')\n",
    "df_messy = pd.read_csv('datasets/modified/nap-2001-drop-reindex-rename.csv')\n",
    "\n",
    "#append the two dataframes (merge them)\n",
    "df_appended = df_messy.append(df_clean, ignore_index=True)\n",
    "\n",
    "#sort by Month column\n",
    "df_appended.sort_values(by=['Month'], inplace=True)\n",
    "\n",
    "#output the appended dataframe to csv\n",
    "df_appended.to_csv('datasets/modified/nap-2001-2011-sorted.csv', index=False)"
   ]
  },
  {
   "cell_type": "code",
   "execution_count": 71,
   "metadata": {},
   "outputs": [
    {
     "data": {
      "text/plain": [
       "Month      0\n",
       "Item       0\n",
       "Value    869\n",
       "dtype: int64"
      ]
     },
     "execution_count": 71,
     "metadata": {},
     "output_type": "execute_result"
    }
   ],
   "source": [
    "#missing data\n",
    "#show count of all null values in 2011\n",
    "df_2011.isnull().sum()"
   ]
  },
  {
   "cell_type": "code",
   "execution_count": null,
   "metadata": {},
   "outputs": [],
   "source": []
  }
 ],
 "metadata": {
  "kernelspec": {
   "display_name": "Python 3",
   "language": "python",
   "name": "python3"
  },
  "language_info": {
   "codemirror_mode": {
    "name": "ipython",
    "version": 3
   },
   "file_extension": ".py",
   "mimetype": "text/x-python",
   "name": "python",
   "nbconvert_exporter": "python",
   "pygments_lexer": "ipython3",
   "version": "3.11.0"
  },
  "orig_nbformat": 4,
  "vscode": {
   "interpreter": {
    "hash": "22a6660a2d98d4518a2df869b93f729ae052227264eb0ca9f93fd8457a4f6215"
   }
  }
 },
 "nbformat": 4,
 "nbformat_minor": 2
}
